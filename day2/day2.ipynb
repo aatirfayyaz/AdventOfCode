{
 "cells": [
  {
   "cell_type": "code",
   "execution_count": 10,
   "metadata": {},
   "outputs": [
    {
     "name": "stdout",
     "output_type": "stream",
     "text": [
      "Total score is:  14069\n"
     ]
    }
   ],
   "source": [
    "# PART 1\n",
    "\n",
    "f = open(\"data.txt\", \"r\")\n",
    "score = 0\n",
    "\n",
    "for line in f:\n",
    "    # print(line)\n",
    "    if (line == \"A X\\n\" or line == \"A X\"):\n",
    "        score += 1+3\n",
    "    elif (line == \"B X\\n\" or line == \"B X\"):\n",
    "        score += 1+0\n",
    "    elif (line == \"C X\\n\" or line == \"C X\"):\n",
    "        score += 1+6\n",
    "    elif (line == \"A Y\\n\" or line == \"A Y\"):\n",
    "        score += 2+6\n",
    "    elif (line == \"B Y\\n\" or line == \"B Y\"):\n",
    "        score += 2+3\n",
    "    elif (line == \"C Y\\n\" or line == \"C Y\"):\n",
    "        score += 2+0\n",
    "    elif (line == \"A Z\\n\" or line == \"A Z\"):\n",
    "        score += 3+0\n",
    "    elif (line == \"B Z\\n\" or line == \"B Z\"):\n",
    "        score += 3+6\n",
    "    elif (line == \"C Z\\n\" or line == \"C Z\"):\n",
    "        score += 3+3\n",
    "    else:\n",
    "        print(\"Invalid case?\")\n",
    "\n",
    "print('Total score is: ', score)\n",
    "f.close()"
   ]
  },
  {
   "cell_type": "code",
   "execution_count": 11,
   "metadata": {},
   "outputs": [
    {
     "name": "stdout",
     "output_type": "stream",
     "text": [
      "Total score is:  12411\n"
     ]
    }
   ],
   "source": [
    "# PART 2\n",
    "\n",
    "f = open(\"data.txt\", \"r\")\n",
    "score = 0\n",
    "\n",
    "for line in f:\n",
    "    # print(line)\n",
    "    if (line[0] == \"A\"):\n",
    "        if (line[2] == \"X\"):\n",
    "            score += 0+3\n",
    "        elif (line[2] == \"Y\"):\n",
    "            score += 3+1\n",
    "        else:\n",
    "            score += 6+2\n",
    "    elif (line[0] == \"B\"):\n",
    "        if (line[2] == \"X\"):\n",
    "            score += 0+1\n",
    "        elif (line[2] == \"Y\"):\n",
    "            score += 3+2\n",
    "        else:\n",
    "            score += 6+3\n",
    "    elif (line[0] == \"C\"):\n",
    "        if (line[2] == \"X\"):\n",
    "            score += 0+2\n",
    "        elif (line[2] == \"Y\"):\n",
    "            score += 3+3\n",
    "        else:\n",
    "            score += 6+1\n",
    "    else:\n",
    "        print(\"Invalid case?\")\n",
    "\n",
    "print('Total score is: ', score)\n",
    "f.close()"
   ]
  },
  {
   "cell_type": "code",
   "execution_count": null,
   "metadata": {},
   "outputs": [],
   "source": []
  }
 ],
 "metadata": {
  "kernelspec": {
   "display_name": "Python 3.7.3 ('env')",
   "language": "python",
   "name": "python3"
  },
  "language_info": {
   "codemirror_mode": {
    "name": "ipython",
    "version": 3
   },
   "file_extension": ".py",
   "mimetype": "text/x-python",
   "name": "python",
   "nbconvert_exporter": "python",
   "pygments_lexer": "ipython3",
   "version": "3.7.3"
  },
  "orig_nbformat": 4,
  "vscode": {
   "interpreter": {
    "hash": "cacbb7c6e0859cebf5bc26fedfa0db5d7ccf6d72dd1fee6ba957cedea9270a6c"
   }
  }
 },
 "nbformat": 4,
 "nbformat_minor": 2
}
