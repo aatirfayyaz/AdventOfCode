{
 "cells": [
  {
   "cell_type": "code",
   "execution_count": 26,
   "metadata": {},
   "outputs": [
    {
     "name": "stdout",
     "output_type": "stream",
     "text": [
      "{'a': 1, 'A': 27, 'b': 2, 'B': 28, 'c': 3, 'C': 29, 'd': 4, 'D': 30, 'e': 5, 'E': 31, 'f': 6, 'F': 32, 'g': 7, 'G': 33, 'h': 8, 'H': 34, 'i': 9, 'I': 35, 'j': 10, 'J': 36, 'k': 11, 'K': 37, 'l': 12, 'L': 38, 'm': 13, 'M': 39, 'n': 14, 'N': 40, 'o': 15, 'O': 41, 'p': 16, 'P': 42, 'q': 17, 'Q': 43, 'r': 18, 'R': 44, 's': 19, 'S': 45, 't': 20, 'T': 46, 'u': 21, 'U': 47, 'v': 22, 'V': 48, 'w': 23, 'W': 49, 'x': 24, 'X': 50, 'y': 25, 'Y': 51, 'z': 26, 'Z': 52}\n",
      "Total score is:  8153\n"
     ]
    }
   ],
   "source": [
    "# PART 1\n",
    "\n",
    "f = open(\"data.txt\", \"r\")\n",
    "priority = 0\n",
    "dic = {}\n",
    "\n",
    "for i in range(26):\n",
    "    dic[chr(i+97)] = i + 1\n",
    "    dic[chr(i+65)] = i + 27\n",
    "\n",
    "print(dic)\n",
    "\n",
    "for line in f:\n",
    "    line = str(line)\n",
    "    length = len(line) - 1\n",
    "    firstHalf = line[0:int(length/2)]\n",
    "    secondHalf = line[int(length/2):]\n",
    "    for letter in firstHalf:\n",
    "        if (letter in secondHalf):\n",
    "            priority += dic[letter]\n",
    "            break\n",
    "\n",
    "print('Total score is: ', priority)\n",
    "f.close()"
   ]
  },
  {
   "cell_type": "code",
   "execution_count": 42,
   "metadata": {},
   "outputs": [
    {
     "name": "stdout",
     "output_type": "stream",
     "text": [
      "Total score is:  2342\n"
     ]
    }
   ],
   "source": [
    "# PART 2\n",
    "\n",
    "f = open(\"data.txt\", \"r\")\n",
    "priority = 0\n",
    "dic = {}\n",
    "\n",
    "for i in range(26):\n",
    "    dic[chr(i+97)] = i + 1\n",
    "    dic[chr(i+65)] = i + 27\n",
    "\n",
    "i = 0\n",
    "x = []\n",
    "\n",
    "for line in f:\n",
    "    x.append(str(line[:-1]))\n",
    "    i += 1\n",
    "    if ( i% 3 == 0 ):\n",
    "        # print(x)\n",
    "        common = set.intersection(*map(set, x)) \n",
    "        # print(list(common)[0])\n",
    "        x.clear()\n",
    "        priority += dic[list(common)[0]]\n",
    "\n",
    "print('Total score is: ', priority)\n",
    "f.close()"
   ]
  },
  {
   "cell_type": "code",
   "execution_count": null,
   "metadata": {},
   "outputs": [],
   "source": []
  }
 ],
 "metadata": {
  "kernelspec": {
   "display_name": "Python 3.7.3 ('env')",
   "language": "python",
   "name": "python3"
  },
  "language_info": {
   "codemirror_mode": {
    "name": "ipython",
    "version": 3
   },
   "file_extension": ".py",
   "mimetype": "text/x-python",
   "name": "python",
   "nbconvert_exporter": "python",
   "pygments_lexer": "ipython3",
   "version": "3.7.3"
  },
  "orig_nbformat": 4,
  "vscode": {
   "interpreter": {
    "hash": "cacbb7c6e0859cebf5bc26fedfa0db5d7ccf6d72dd1fee6ba957cedea9270a6c"
   }
  }
 },
 "nbformat": 4,
 "nbformat_minor": 2
}
