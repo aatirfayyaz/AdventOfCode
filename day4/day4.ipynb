{
 "cells": [
  {
   "cell_type": "code",
   "execution_count": 51,
   "metadata": {},
   "outputs": [
    {
     "name": "stdout",
     "output_type": "stream",
     "text": [
      "Total assignment pairs with fully overlapping ranges are:  456\n"
     ]
    }
   ],
   "source": [
    "# PART 1\n",
    "\n",
    "f = open(\"data.txt\", \"r\")\n",
    "number = 0\n",
    "\n",
    "for line in f:\n",
    "    if '\\n' in line:\n",
    "        line = str(line[:-1])\n",
    "    else:\n",
    "        line = str(line)\n",
    "    ind = line.index(\",\")\n",
    "    sub1 = line[:ind]\n",
    "    sub2 = line[ind+1:]\n",
    "    if (int(sub1[:sub1.index(\"-\")]) <= int(sub2[:sub2.index(\"-\")]) and int(sub1[sub1.index(\"-\")+1:]) >= int(sub2[sub2.index(\"-\")+1:])):\n",
    "            # print(\"sub1 first\", int(sub1[:sub1.index(\"-\")]), \"sub2 first\", int(sub2[:sub2.index(\"-\")]), \"sub1 last\", int(sub1[sub1.index(\"-\")+1:]), \"sub2 last\", int(sub2[sub2.index(\"-\")+1:]), \"1st Case: Adding 1\")\n",
    "            number += 1\n",
    "    elif (int(sub2[:sub2.index(\"-\")]) <= int(sub1[:sub1.index(\"-\")]) and int(sub2[sub2.index(\"-\")+1:]) >= int(sub1[sub1.index(\"-\")+1:])):\n",
    "            # print(sub1, sub2, \"2nd Case: Adding 1\")\n",
    "            number += 1\n",
    "\n",
    "print('Total assignment pairs with fully overlapping ranges are: ', number)\n",
    "f.close()"
   ]
  },
  {
   "cell_type": "code",
   "execution_count": 52,
   "metadata": {},
   "outputs": [
    {
     "name": "stdout",
     "output_type": "stream",
     "text": [
      "Total assignment pairs with fully overlapping ranges are:  808\n"
     ]
    }
   ],
   "source": [
    "# PART 2\n",
    "\n",
    "f = open(\"data.txt\", \"r\")\n",
    "number = 0\n",
    "\n",
    "for line in f:\n",
    "    if '\\n' in line:\n",
    "        line = str(line[:-1])\n",
    "    else:\n",
    "        line = str(line)\n",
    "    ind = line.index(\",\")\n",
    "    sub1 = line[:ind]\n",
    "    sub2 = line[ind+1:]\n",
    "    if (int(sub1[:sub1.index(\"-\")]) <= int(sub2[:sub2.index(\"-\")]) and int(sub1[sub1.index(\"-\")+1:]) >= int(sub2[:sub2.index(\"-\")])):\n",
    "            # print(\"sub1 first\", int(sub1[:sub1.index(\"-\")]), \"sub2 first\", int(sub2[:sub2.index(\"-\")]), \"sub1 last\", int(sub1[sub1.index(\"-\")+1:]), \"sub2 last\", int(sub2[sub2.index(\"-\")+1:]), \"1st Case: Adding 1\")\n",
    "            number += 1\n",
    "    elif (int(sub2[:sub2.index(\"-\")]) <= int(sub1[:sub1.index(\"-\")]) and int(sub2[sub2.index(\"-\")+1:]) >= int(sub1[:sub1.index(\"-\")])):\n",
    "            # print(sub1, sub2, \"2nd Case: Adding 1\")\n",
    "            number += 1\n",
    "            \n",
    "print('Total assignment pairs with fully overlapping ranges are: ', number)\n",
    "f.close()"
   ]
  },
  {
   "cell_type": "code",
   "execution_count": null,
   "metadata": {},
   "outputs": [],
   "source": []
  }
 ],
 "metadata": {
  "kernelspec": {
   "display_name": "Python 3.7.3 ('env')",
   "language": "python",
   "name": "python3"
  },
  "language_info": {
   "codemirror_mode": {
    "name": "ipython",
    "version": 3
   },
   "file_extension": ".py",
   "mimetype": "text/x-python",
   "name": "python",
   "nbconvert_exporter": "python",
   "pygments_lexer": "ipython3",
   "version": "3.7.3"
  },
  "orig_nbformat": 4,
  "vscode": {
   "interpreter": {
    "hash": "cacbb7c6e0859cebf5bc26fedfa0db5d7ccf6d72dd1fee6ba957cedea9270a6c"
   }
  }
 },
 "nbformat": 4,
 "nbformat_minor": 2
}
