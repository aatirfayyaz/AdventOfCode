{
 "cells": [
  {
   "cell_type": "code",
   "execution_count": 122,
   "metadata": {},
   "outputs": [],
   "source": [
    "with open(\"data.txt\", \"r\") as f:\n",
    "    lines = f.readlines()\n",
    "lines[-1] = lines[-1]+\"\\n\"\n",
    "f.close()\n",
    "\n",
    "valveDict = {}\n",
    "\n",
    "for line in lines:\n",
    "    valveDict[line[6:8]] = (int(line[line.find(\"=\")+1:line.find(\";\")]), [x.strip() for x in line[line.find(\"valve\")+6:-1].split(\",\")])"
   ]
  },
  {
   "cell_type": "code",
   "execution_count": 123,
   "metadata": {},
   "outputs": [
    {
     "name": "stdout",
     "output_type": "stream",
     "text": [
      "Max pressure released after 30 mins: 1580\n"
     ]
    }
   ],
   "source": [
    "@functools.lru_cache(maxsize=None)\n",
    "def maxflow(current, visited, timeLeft):\n",
    "    if timeLeft <= 0:\n",
    "        return 0\n",
    "    best = 0\n",
    "    if current not in visited:\n",
    "        val = (timeLeft - 1) * valveDict[current][0]\n",
    "        current_opened = tuple(sorted(visited + (current,)))\n",
    "        for destination in valveDict[current][1]:\n",
    "            if val != 0:\n",
    "                best = max(best,\n",
    "                    val + maxflow(destination, current_opened, timeLeft - 2))\n",
    "            best = max(best,\n",
    "                maxflow(destination, visited, timeLeft - 1))\n",
    "    else:\n",
    "        for destination in valveDict[current][1]:\n",
    "            best = max(best,\n",
    "                maxflow(destination, visited, timeLeft - 1))\n",
    "    return best\n",
    "\n",
    "print(f'Max pressure released after 30 mins: {maxflow(\"AA\", (), 30)}')"
   ]
  },
  {
   "cell_type": "code",
   "execution_count": null,
   "metadata": {},
   "outputs": [],
   "source": []
  }
 ],
 "metadata": {
  "kernelspec": {
   "display_name": "Python 3.10.0 32-bit",
   "language": "python",
   "name": "python3"
  },
  "language_info": {
   "codemirror_mode": {
    "name": "ipython",
    "version": 3
   },
   "file_extension": ".py",
   "mimetype": "text/x-python",
   "name": "python",
   "nbconvert_exporter": "python",
   "pygments_lexer": "ipython3",
   "version": "3.10.0"
  },
  "orig_nbformat": 4,
  "vscode": {
   "interpreter": {
    "hash": "17999a8378a35389798968e93db08ea75eb5d1a70e903bcba9755769bbb8bc7a"
   }
  }
 },
 "nbformat": 4,
 "nbformat_minor": 2
}
