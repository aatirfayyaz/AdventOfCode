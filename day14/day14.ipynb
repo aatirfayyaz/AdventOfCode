{
 "cells": [
  {
   "cell_type": "code",
   "execution_count": 10,
   "metadata": {},
   "outputs": [
    {
     "name": "stdout",
     "output_type": "stream",
     "text": [
      "698\n"
     ]
    }
   ],
   "source": [
    "# PART 1\n",
    "\n",
    "\n",
    "def sandFalls(start: tuple, lowestLevel):\n",
    "    if start[1] >= lowestLevel: return\n",
    "    if (start[0], start[1]+1) not in rocks:\n",
    "        sandFalls((start[0], start[1]+1), lowestLevel)\n",
    "    elif (start[0]-1, start[1]+1) not in rocks:\n",
    "        sandFalls((start[0]-1, start[1]+1), lowestLevel)\n",
    "    elif (start[0]+1, start[1]+1) not in rocks:\n",
    "        sandFalls((start[0]+1, start[1]+1), lowestLevel)\n",
    "    else:\n",
    "        rocks.add(start)\n",
    "        return\n",
    "\n",
    "\n",
    "with open(\"data.txt\", \"r\") as f:\n",
    "    y = f.read().splitlines()\n",
    "\n",
    "data = []\n",
    "rocks = set()\n",
    "lowestLevel, lowestX, highestX = 0, 9999, 0\n",
    "# print(data)\n",
    "\n",
    "for idx, item in enumerate(y):\n",
    "    x = item.split('->')\n",
    "    # print(x)\n",
    "    data.append([(eval(point[:point.index(\",\")]), eval(point[point.index(\",\")+1:])) for point in x])\n",
    "\n",
    "\n",
    "# print(data)\n",
    "for line in data:\n",
    "    for i in range(len(line)):\n",
    "        rocks.add(line[i])\n",
    "        lowestX = line[i][0] if line[i][0] < lowestX else lowestX\n",
    "        highestX = line[i][0] if line[i][0] > highestX else highestX\n",
    "        lowestLevel = line[i][1] if line[i][1] > lowestLevel else lowestLevel\n",
    "        if i == 0: continue\n",
    "        elif line[i-1][0] == line[i][0]:\n",
    "            # print(rocks[i-1][1] - rocks[i][1], rocks[i-1][1], rocks[i][1])\n",
    "            for j in range(1, abs(line[i-1][1] - line[i][1])):\n",
    "                if line[i-1][1] > line[i][1]:\n",
    "                    rocks.add((line[i][0], line[i][1]+j))\n",
    "                else:\n",
    "                    rocks.add((line[i][0], line[i][1]-j))\n",
    "        elif line[i-1][1] == line[i][1]:\n",
    "            # print(line[i-1][0] - line[i][0], line[i-1][0], line[i][0])\n",
    "            for j in range(1, abs(line[i-1][0] - line[i][0])):\n",
    "                if line[i-1][0] > line[i][0]:\n",
    "                    rocks.add((line[i][0]+j, line[i][1]))\n",
    "                else:\n",
    "                    rocks.add((line[i][0]-j, line[i][1]))\n",
    "        # print(rocks)\n",
    "\n",
    "sandStart = (500, 0)\n",
    "original = len(rocks)\n",
    "lastRun = 0\n",
    "\n",
    "while (True):\n",
    "    sandFalls(sandStart, lowestLevel)\n",
    "    if lastRun == len(rocks): break\n",
    "    else: lastRun = len(rocks)\n",
    "\n",
    "# print(lowestX, highestX, lowestLevel)\n",
    "print(len(rocks) - original)\n"
   ]
  },
  {
   "cell_type": "code",
   "execution_count": 20,
   "metadata": {},
   "outputs": [
    {
     "name": "stdout",
     "output_type": "stream",
     "text": [
      "28594\n"
     ]
    }
   ],
   "source": [
    "# PART 2\n",
    "\n",
    "## Need to know the question before attempting this.\n",
    "count = 0\n",
    "\n",
    "for i in range(lowestX - 350, highestX + 350, 1):\n",
    "    rocks.add((i, lowestLevel + 2))\n",
    "    count = count + 1\n",
    "\n",
    "# print(rocks)\n",
    "\n",
    "while (True):\n",
    "    sandFalls(sandStart, lowestLevel + 2)\n",
    "    if lastRun == len(rocks): break\n",
    "    else: lastRun = len(rocks)\n",
    "\n",
    "# print(sorted(rocks))\n",
    "print(len(rocks) - original - count)"
   ]
  },
  {
   "cell_type": "code",
   "execution_count": null,
   "metadata": {},
   "outputs": [],
   "source": []
  }
 ],
 "metadata": {
  "kernelspec": {
   "display_name": "Python 3.7.3 ('base')",
   "language": "python",
   "name": "python3"
  },
  "language_info": {
   "codemirror_mode": {
    "name": "ipython",
    "version": 3
   },
   "file_extension": ".py",
   "mimetype": "text/x-python",
   "name": "python",
   "nbconvert_exporter": "python",
   "pygments_lexer": "ipython3",
   "version": "3.7.3"
  },
  "orig_nbformat": 4,
  "vscode": {
   "interpreter": {
    "hash": "ad2bdc8ecc057115af97d19610ffacc2b4e99fae6737bb82f5d7fb13d2f2c186"
   }
  }
 },
 "nbformat": 4,
 "nbformat_minor": 2
}
