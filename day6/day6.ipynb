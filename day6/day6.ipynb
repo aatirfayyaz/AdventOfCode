{
 "cells": [
  {
   "cell_type": "code",
   "execution_count": 40,
   "metadata": {},
   "outputs": [
    {
     "name": "stdout",
     "output_type": "stream",
     "text": [
      "First marker after character: 1707\n"
     ]
    }
   ],
   "source": [
    "# PART 1\n",
    "\n",
    "f = open(\"data.txt\", \"r\")\n",
    "\n",
    "buffer = f.readlines()\n",
    "buffer = str(buffer)[2:-2]\n",
    "\n",
    "for i in range(len(buffer)-3):\n",
    "    tmp = buffer[i:i+4]\n",
    "    letters = []\n",
    "    for j in tmp:\n",
    "        if  j not in letters:\n",
    "            letters.append(j)\n",
    "            # print(letters)\n",
    "    if len(letters) == 4:\n",
    "        print(\"First marker after character: {}\".format(i+4))\n",
    "        break\n",
    "\n",
    "\n",
    "f.close()"
   ]
  },
  {
   "cell_type": "code",
   "execution_count": 41,
   "metadata": {},
   "outputs": [
    {
     "name": "stdout",
     "output_type": "stream",
     "text": [
      "First marker after character: 3697\n"
     ]
    }
   ],
   "source": [
    "# PART 2\n",
    "\n",
    "f = open(\"data.txt\", \"r\")\n",
    "\n",
    "buffer = f.readlines()\n",
    "buffer = str(buffer)[2:-2]\n",
    "\n",
    "for i in range(len(buffer)-13):\n",
    "    tmp = buffer[i:i+14]\n",
    "    letters = []\n",
    "    for j in tmp:\n",
    "        if  j not in letters:\n",
    "            letters.append(j)\n",
    "            # print(letters)\n",
    "    if len(letters) == 14:\n",
    "        print(\"First marker after character: {}\".format(i+14))\n",
    "        break\n",
    "\n",
    "\n",
    "f.close()"
   ]
  },
  {
   "cell_type": "code",
   "execution_count": null,
   "metadata": {},
   "outputs": [],
   "source": []
  }
 ],
 "metadata": {
  "kernelspec": {
   "display_name": "Python 3.7.3 ('base')",
   "language": "python",
   "name": "python3"
  },
  "language_info": {
   "codemirror_mode": {
    "name": "ipython",
    "version": 3
   },
   "file_extension": ".py",
   "mimetype": "text/x-python",
   "name": "python",
   "nbconvert_exporter": "python",
   "pygments_lexer": "ipython3",
   "version": "3.7.3"
  },
  "orig_nbformat": 4,
  "vscode": {
   "interpreter": {
    "hash": "ad2bdc8ecc057115af97d19610ffacc2b4e99fae6737bb82f5d7fb13d2f2c186"
   }
  }
 },
 "nbformat": 4,
 "nbformat_minor": 2
}
