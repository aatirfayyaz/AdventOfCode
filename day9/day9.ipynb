{
 "cells": [
  {
   "cell_type": "code",
   "execution_count": 5,
   "metadata": {},
   "outputs": [],
   "source": [
    "import numpy as np"
   ]
  },
  {
   "cell_type": "code",
   "execution_count": 8,
   "metadata": {},
   "outputs": [
    {
     "ename": "ValueError",
     "evalue": "The truth value of an array with more than one element is ambiguous. Use a.any() or a.all()",
     "output_type": "error",
     "traceback": [
      "\u001b[1;31m---------------------------------------------------------------------------\u001b[0m",
      "\u001b[1;31mValueError\u001b[0m                                Traceback (most recent call last)",
      "\u001b[1;32m~\\AppData\\Local\\Temp\\ipykernel_12956\\2760200946.py\u001b[0m in \u001b[0;36m<module>\u001b[1;34m\u001b[0m\n\u001b[0;32m     14\u001b[0m             \u001b[0mlastHead\u001b[0m \u001b[1;33m=\u001b[0m \u001b[0mhead\u001b[0m\u001b[1;33m.\u001b[0m\u001b[0mcopy\u001b[0m\u001b[1;33m(\u001b[0m\u001b[1;33m)\u001b[0m\u001b[1;33m\u001b[0m\u001b[1;33m\u001b[0m\u001b[0m\n\u001b[0;32m     15\u001b[0m             \u001b[0mhead\u001b[0m\u001b[1;33m[\u001b[0m\u001b[1;36m0\u001b[0m\u001b[1;33m]\u001b[0m\u001b[1;33m[\u001b[0m\u001b[1;36m0\u001b[0m\u001b[1;33m]\u001b[0m \u001b[1;33m+=\u001b[0m \u001b[1;36m1\u001b[0m\u001b[1;33m\u001b[0m\u001b[1;33m\u001b[0m\u001b[0m\n\u001b[1;32m---> 16\u001b[1;33m             \u001b[1;32mif\u001b[0m \u001b[0mabs\u001b[0m\u001b[1;33m(\u001b[0m\u001b[0mnp\u001b[0m\u001b[1;33m.\u001b[0m\u001b[0msubtract\u001b[0m\u001b[1;33m(\u001b[0m\u001b[0mhead\u001b[0m\u001b[1;33m,\u001b[0m \u001b[0mtail\u001b[0m\u001b[1;33m)\u001b[0m\u001b[1;33m)\u001b[0m \u001b[1;33m>=\u001b[0m \u001b[1;36m2\u001b[0m\u001b[1;33m:\u001b[0m\u001b[1;33m\u001b[0m\u001b[1;33m\u001b[0m\u001b[0m\n\u001b[0m\u001b[0;32m     17\u001b[0m                 \u001b[0mtail\u001b[0m \u001b[1;33m=\u001b[0m \u001b[0mlastHead\u001b[0m\u001b[1;33m.\u001b[0m\u001b[0mcopy\u001b[0m\u001b[1;33m(\u001b[0m\u001b[1;33m)\u001b[0m\u001b[1;33m\u001b[0m\u001b[1;33m\u001b[0m\u001b[0m\n\u001b[0;32m     18\u001b[0m                 \u001b[1;32mif\u001b[0m \u001b[1;32mnot\u001b[0m \u001b[0many\u001b[0m\u001b[1;33m(\u001b[0m\u001b[0mnp\u001b[0m\u001b[1;33m.\u001b[0m\u001b[0marray_equal\u001b[0m\u001b[1;33m(\u001b[0m\u001b[0mtail\u001b[0m\u001b[1;33m,\u001b[0m \u001b[0mx\u001b[0m\u001b[1;33m)\u001b[0m \u001b[1;32mfor\u001b[0m \u001b[0mx\u001b[0m \u001b[1;32min\u001b[0m \u001b[0mtailRoute\u001b[0m\u001b[1;33m)\u001b[0m\u001b[1;33m:\u001b[0m\u001b[1;33m\u001b[0m\u001b[1;33m\u001b[0m\u001b[0m\n",
      "\u001b[1;31mValueError\u001b[0m: The truth value of an array with more than one element is ambiguous. Use a.any() or a.all()"
     ]
    }
   ],
   "source": [
    "f = open(\"data.txt\", \"r\")\n",
    "f = f.read().splitlines()\n",
    "\n",
    "head = np.zeros((1,2))\n",
    "lastHead = np.zeros((1,2))\n",
    "tail = np.zeros((1,2))\n",
    "tailRoute = [tail]\n",
    "\n",
    "for line in f:\n",
    "    drct, stps = line.split()\n",
    "    stps = int(stps)\n",
    "    for _ in range(stps):\n",
    "        if (drct == \"R\"):\n",
    "            lastHead = head.copy()\n",
    "            head[0][0] += 1\n",
    "            if np.linalg.norm(head - tail, ord=2) > 1.5:\n",
    "                tail = lastHead.copy()\n",
    "                if not any(np.array_equal(tail, x) for x in tailRoute):\n",
    "                    tailRoute.append(tail)\n",
    "        elif (drct == \"U\"):\n",
    "            lastHead = head.copy()\n",
    "            head[0][1] += 1\n",
    "            if np.linalg.norm(head - tail, ord=2) > 1.5:\n",
    "                tail = lastHead.copy()\n",
    "                if not any(np.array_equal(tail, x) for x in tailRoute):\n",
    "                    tailRoute.append(tail)\n",
    "        elif (drct == \"L\"):\n",
    "            lastHead = head.copy()\n",
    "            head[0][0] -= 1\n",
    "            if np.linalg.norm(head - tail, ord=2) > 1.5:\n",
    "                tail = lastHead.copy()\n",
    "                if not any(np.array_equal(tail, x) for x in tailRoute):\n",
    "                    tailRoute.append(tail)\n",
    "        elif (drct == \"D\"):\n",
    "            lastHead = head.copy()\n",
    "            head[0][1] -= 1\n",
    "            if np.linalg.norm(head - tail, ord=2) > 1.5:\n",
    "                tail = lastHead.copy()\n",
    "                if not any(np.array_equal(tail, x) for x in tailRoute):\n",
    "                    tailRoute.append(tail)\n",
    "        else:\n",
    "            print(\"Invalid case\")\n",
    "    # print(\"head: \", head, \"tail: \", tail, \"with count: \", len(tailRoute))\n",
    "\n",
    "\n",
    "print(len(tailRoute))"
   ]
  },
  {
   "cell_type": "code",
   "execution_count": 15,
   "metadata": {},
   "outputs": [
    {
     "name": "stdout",
     "output_type": "stream",
     "text": [
      "Part 1 answer:  5710 \n",
      "Part 2 answer:  2259\n"
     ]
    }
   ],
   "source": [
    "rope = [0] * 10\n",
    "tailRoute = [set([x]) for x in rope]\n",
    "directions = {'L':-1, 'R':+1, 'D':-1j, 'U':+1j}\n",
    "convertToComplex = lambda x: complex((x.real>0) - (x.real<0), (x.imag>0) - (x.imag<0))\n",
    "\n",
    "f = open(\"data.txt\", \"r\")\n",
    "f = f.read().splitlines()\n",
    "\n",
    "for line in f:\n",
    "    drct, steps = line.split()\n",
    "    steps = int(steps)\n",
    "    for _ in range(steps):\n",
    "        rope[0] += directions[drct]\n",
    "\n",
    "        for i in range(1, 10):\n",
    "            dist = rope[i-1] - rope[i]\n",
    "            # print('rope[i-1]',rope[i-1], 'rope[i]', rope[i], 'dist', dist)\n",
    "            if abs(dist) >= 1.5:\n",
    "                rope[i] += convertToComplex(dist)\n",
    "                tailRoute[i].add(rope[i])\n",
    "                # print(rope[i], tailRoute[i])\n",
    "\n",
    "print(\"Part 1 answer: \", len(tailRoute[1]), \"\\nPart 2 answer: \", len(tailRoute[9]))"
   ]
  },
  {
   "cell_type": "code",
   "execution_count": null,
   "metadata": {},
   "outputs": [],
   "source": []
  },
  {
   "cell_type": "code",
   "execution_count": null,
   "metadata": {},
   "outputs": [],
   "source": []
  }
 ],
 "metadata": {
  "kernelspec": {
   "display_name": "Python 3.7.3 ('base')",
   "language": "python",
   "name": "python3"
  },
  "language_info": {
   "codemirror_mode": {
    "name": "ipython",
    "version": 3
   },
   "file_extension": ".py",
   "mimetype": "text/x-python",
   "name": "python",
   "nbconvert_exporter": "python",
   "pygments_lexer": "ipython3",
   "version": "3.7.3"
  },
  "orig_nbformat": 4,
  "vscode": {
   "interpreter": {
    "hash": "ad2bdc8ecc057115af97d19610ffacc2b4e99fae6737bb82f5d7fb13d2f2c186"
   }
  }
 },
 "nbformat": 4,
 "nbformat_minor": 2
}
