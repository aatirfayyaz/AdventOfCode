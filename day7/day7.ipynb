{
 "cells": [
  {
   "cell_type": "code",
   "execution_count": 5,
   "metadata": {},
   "outputs": [
    {
     "name": "stdout",
     "output_type": "stream",
     "text": [
      "['$ cd /\\n', '$ ls\\n', 'dir a\\n', '14848514 b.txt\\n', '8504156 c.dat\\n', 'dir d\\n', '$ cd a\\n', '$ ls\\n', 'dir e\\n', '29116 f\\n', '2557 g\\n', '62596 h.lst\\n', '$ cd e\\n', '$ ls\\n', '584 i\\n', '$ cd ..\\n', '$ cd ..\\n', '$ cd d\\n', '$ ls\\n', '4060174 j\\n', '8033020 d.log\\n', '5626152 d.ext\\n', '7214296 k']\n"
     ]
    }
   ],
   "source": [
    "# PART 1\n",
    "\n",
    "f = open(\"data.txt\", \"r\")\n",
    "\n",
    "buffer = f.readlines()\n",
    "print(buffer)\n",
    "directories = {'/': 0}\n",
    "\n",
    "for line in buffer:\n",
    "    if line[0] == \"$\":\n",
    "        continue\n",
    "    else:\n",
    "        if line[0] == \"d\":\n",
    "            continue\n",
    "\n",
    "            \n",
    "\n",
    "\n",
    "f.close()"
   ]
  },
  {
   "cell_type": "code",
   "execution_count": null,
   "metadata": {},
   "outputs": [],
   "source": []
  }
 ],
 "metadata": {
  "kernelspec": {
   "display_name": "Python 3.7.3 ('base')",
   "language": "python",
   "name": "python3"
  },
  "language_info": {
   "codemirror_mode": {
    "name": "ipython",
    "version": 3
   },
   "file_extension": ".py",
   "mimetype": "text/x-python",
   "name": "python",
   "nbconvert_exporter": "python",
   "pygments_lexer": "ipython3",
   "version": "3.7.3"
  },
  "orig_nbformat": 4,
  "vscode": {
   "interpreter": {
    "hash": "ad2bdc8ecc057115af97d19610ffacc2b4e99fae6737bb82f5d7fb13d2f2c186"
   }
  }
 },
 "nbformat": 4,
 "nbformat_minor": 2
}
