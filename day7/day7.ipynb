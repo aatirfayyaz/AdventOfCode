{
 "cells": [
  {
   "cell_type": "code",
   "execution_count": 42,
   "metadata": {},
   "outputs": [
    {
     "name": "stdout",
     "output_type": "stream",
     "text": [
      "Sum of all directories with a total size of at most 100000 = 1749646\n",
      "\n"
     ]
    }
   ],
   "source": [
    "# PART 1\n",
    "\n",
    "# Create a list of dirs by judging the inputs\n",
    "pwd = \"\"\n",
    "dirs = {\"/root\": 0}\n",
    "f = open(\"data.txt\", \"r\")\n",
    "\n",
    "for line in f.read().splitlines():\n",
    "    line = line.split()\n",
    "    if line[0] == \"$\":\n",
    "        if line[1] == \"ls\":\n",
    "            pass\n",
    "        else:\n",
    "            if line[2] == \"..\":\n",
    "                # Find index of last occurrence of \"/\" and create new string up until that index\n",
    "                pwd = pwd[:pwd.rindex(\"/\")]\n",
    "            elif line[2] == \"/\":\n",
    "                pwd = \"/root\"\n",
    "            else:\n",
    "                pwd = pwd + \"/\" + line[2]\n",
    "                dirs[pwd] = 0\n",
    "    else:\n",
    "        if line[0] != \"dir\":\n",
    "            temp_path = pwd\n",
    "            # Update all parent dirs\n",
    "            while temp_path != \"\":\n",
    "                dirs[temp_path] += int(line[0])\n",
    "                temp_path = temp_path[:temp_path.rindex(\"/\")]\n",
    "\n",
    "# print(dirs)\n",
    "\n",
    "total = 0\n",
    "for size in dirs.items():\n",
    "    if size[1] < 100000:\n",
    "        total += size[1]\n",
    "\n",
    "print(\"Sum of all directories with a total size of at most 100000 = \" + str(total) + \"\\n\")"
   ]
  },
  {
   "cell_type": "code",
   "execution_count": 47,
   "metadata": {},
   "outputs": [
    {
     "name": "stdout",
     "output_type": "stream",
     "text": [
      "Unused space in drive = 28587170 and required space is = 1412830\n",
      "('/root', 41412830)\n",
      "('/root/hchrwstr', 2391728)\n",
      "('/root/zjhqnlrr/ddzmvh/mghmb/btjq/gqlg', 1840355)\n",
      "('/root/zjhqnlrr/ddzmvh/mghmb/btjq/rqtc/rzsrp/mbsjjzft', 1498966)\n",
      "The size of the smallest directory that, if deleted, would free up enough space is: 1498966\n"
     ]
    }
   ],
   "source": [
    "# PART 2\n",
    "\n",
    "unusedSpace = 70000000 - dirs[\"/root\"]\n",
    "requiredSpace = 30000000 - unusedSpace\n",
    "print(\"Unused space in drive = \" + str(unusedSpace) + \" and required space is = \" + str(requiredSpace))\n",
    "bestDir = 70000000\n",
    "\n",
    "for size in dirs.items():\n",
    "    # print(size)\n",
    "    if size[1] > requiredSpace and size[1] < bestDir:\n",
    "        bestDir = size[1]\n",
    "        print(size)\n",
    "\n",
    "print(\"The size of the smallest directory that, if deleted, would free up enough space is: \" + str(bestDir))"
   ]
  },
  {
   "cell_type": "code",
   "execution_count": null,
   "metadata": {},
   "outputs": [],
   "source": []
  }
 ],
 "metadata": {
  "kernelspec": {
   "display_name": "Python 3.7.3 ('base')",
   "language": "python",
   "name": "python3"
  },
  "language_info": {
   "codemirror_mode": {
    "name": "ipython",
    "version": 3
   },
   "file_extension": ".py",
   "mimetype": "text/x-python",
   "name": "python",
   "nbconvert_exporter": "python",
   "pygments_lexer": "ipython3",
   "version": "3.7.3"
  },
  "orig_nbformat": 4,
  "vscode": {
   "interpreter": {
    "hash": "ad2bdc8ecc057115af97d19610ffacc2b4e99fae6737bb82f5d7fb13d2f2c186"
   }
  }
 },
 "nbformat": 4,
 "nbformat_minor": 2
}
