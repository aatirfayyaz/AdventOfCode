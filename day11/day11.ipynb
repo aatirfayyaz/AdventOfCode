{
 "cells": [
  {
   "cell_type": "code",
   "execution_count": 5,
   "metadata": {},
   "outputs": [
    {
     "name": "stdout",
     "output_type": "stream",
     "text": [
      "Business:  [208, 43, 56, 197, 59, 237, 196, 234]\n",
      "Monkey Business:  55458\n"
     ]
    }
   ],
   "source": [
    "# PART 1\n",
    "\n",
    "f = open(\"data.txt\", \"r\")\n",
    "f = f.read().splitlines()\n",
    "\n",
    "num_monkeys = 8\n",
    "items = [[] for x in range(num_monkeys)]\n",
    "operations = [[] for x in range(num_monkeys)]\n",
    "tests = [[] for x in range(num_monkeys)]\n",
    "results = [() for x in range(num_monkeys)]\n",
    "business = [0 for i in range(num_monkeys)]\n",
    "\n",
    "num_monkeys = 0\n",
    "num_rounds = 20\n",
    "\n",
    "for i, line in enumerate(f):\n",
    "    if line:\n",
    "        if (line[0] == \"M\"):\n",
    "            items[num_monkeys] = [eval(x) for x in (f[i+1][17:]).split(',')]\n",
    "            operations[num_monkeys] = (f[i+2][23:])\n",
    "            tests[num_monkeys] = int(f[i+3][21:])\n",
    "            results[num_monkeys] = (int(f[i+4][28:]), int(f[i+5][29:]))\n",
    "            num_monkeys += 1\n",
    "\n",
    "# print(\"Items at start: \", items)\n",
    "for r in range(num_rounds):\n",
    "    for i in range(num_monkeys):\n",
    "        for item in items[i][:]:\n",
    "            business[i] += 1\n",
    "            assessor = item if not operations[i][2:].isdigit() else int(operations[i][1:])\n",
    "            # print(assessor)\n",
    "            worry = 0\n",
    "            if (operations[i][0] == '*'):\n",
    "                worry = item * assessor\n",
    "            elif (operations[i][0] == '/'):\n",
    "                worry = item / assessor\n",
    "            elif (operations[i][0] == '+'):\n",
    "                worry = item + assessor\n",
    "            elif (operations[i][0] == '-'):\n",
    "                worry = item - assessor\n",
    "            else:\n",
    "                print(\"You done messed up\")\n",
    "            \n",
    "            worry = int(worry/3)\n",
    "            # print(worry)\n",
    "\n",
    "            items[i].pop()\n",
    "            if (worry % tests[i] == 0):\n",
    "                items[results[i][0]].append(worry)\n",
    "            else:\n",
    "                items[results[i][1]].append(worry)\n",
    "    # print(\"Items after round\", r, \":\", items)\n",
    "\n",
    "print(\"Business: \", business)\n",
    "business.sort(reverse=True)\n",
    "monkey_business = business[0] * business[1]\n",
    "print(\"Monkey Business: \", monkey_business)\n",
    "\n"
   ]
  },
  {
   "cell_type": "code",
   "execution_count": 6,
   "metadata": {},
   "outputs": [
    {
     "name": "stdout",
     "output_type": "stream",
     "text": [
      "Business:  [120477, 5452, 16145, 109710, 16135, 113731, 109712, 120422]\n",
      "Monkey Business:  14508081294\n"
     ]
    }
   ],
   "source": [
    "# PART 2\n",
    "\n",
    "f = open(\"data.txt\", \"r\")\n",
    "f = f.read().splitlines()\n",
    "\n",
    "num_monkeys = 8\n",
    "items = [[] for x in range(num_monkeys)]\n",
    "operations = [[] for x in range(num_monkeys)]\n",
    "tests = [[] for x in range(num_monkeys)]\n",
    "results = [() for x in range(num_monkeys)]\n",
    "business = [0 for i in range(num_monkeys)]\n",
    "\n",
    "num_monkeys = 0\n",
    "num_rounds = 10000\n",
    "\n",
    "for i, line in enumerate(f):\n",
    "    if line:\n",
    "        if (line[0] == \"M\"):\n",
    "            items[num_monkeys] = [eval(x) for x in (f[i+1][17:]).split(',')]\n",
    "            operations[num_monkeys] = (f[i+2][23:])\n",
    "            tests[num_monkeys] = int(f[i+3][21:])\n",
    "            results[num_monkeys] = (int(f[i+4][28:]), int(f[i+5][29:]))\n",
    "            num_monkeys += 1\n",
    "\n",
    "supermod = 1\n",
    "for test in tests:\n",
    "    supermod = supermod * test\n",
    "\n",
    "# print(\"Items at start: \", items)\n",
    "for r in range(num_rounds):\n",
    "    for i in range(num_monkeys):\n",
    "        for item in items[i][:]:\n",
    "            business[i] += 1\n",
    "            assessor = item if not operations[i][2:].isdigit() else int(operations[i][1:])\n",
    "            # print(assessor)\n",
    "            worry = 0\n",
    "            if (operations[i][0] == '*'):\n",
    "                worry = item * assessor\n",
    "            # elif (operations[i][0] == '/'):\n",
    "            #     worry = item / assessor\n",
    "            elif (operations[i][0] == '+'):\n",
    "                worry = item + assessor\n",
    "            # elif (operations[i][0] == '-'):\n",
    "            #     worry = item - assessor\n",
    "            else:\n",
    "                print(\"You done messed up\")\n",
    "            \n",
    "            worry = worry % supermod\n",
    "            # print(worry)\n",
    "\n",
    "            items[i].pop()\n",
    "            if (worry % tests[i] == 0):\n",
    "                items[results[i][0]].append(worry)\n",
    "            else:\n",
    "                items[results[i][1]].append(worry)\n",
    "    # print(\"Items after round\", r, \":\", items)\n",
    "\n",
    "print(\"Business: \", business)\n",
    "business.sort(reverse=True)\n",
    "monkey_business = business[0] * business[1]\n",
    "print(\"Monkey Business: \", monkey_business)\n",
    "\n"
   ]
  },
  {
   "cell_type": "code",
   "execution_count": null,
   "metadata": {},
   "outputs": [],
   "source": []
  }
 ],
 "metadata": {
  "kernelspec": {
   "display_name": "Python 3.7.3 ('base')",
   "language": "python",
   "name": "python3"
  },
  "language_info": {
   "codemirror_mode": {
    "name": "ipython",
    "version": 3
   },
   "file_extension": ".py",
   "mimetype": "text/x-python",
   "name": "python",
   "nbconvert_exporter": "python",
   "pygments_lexer": "ipython3",
   "version": "3.7.3"
  },
  "orig_nbformat": 4,
  "vscode": {
   "interpreter": {
    "hash": "ad2bdc8ecc057115af97d19610ffacc2b4e99fae6737bb82f5d7fb13d2f2c186"
   }
  }
 },
 "nbformat": 4,
 "nbformat_minor": 2
}
