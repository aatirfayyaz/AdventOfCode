{
 "cells": [
  {
   "cell_type": "code",
   "execution_count": 18,
   "metadata": {},
   "outputs": [
    {
     "name": "stdout",
     "output_type": "stream",
     "text": [
      "[[], [], []]\n",
      "[[], ['N', ']'], ['Z', ']']]\n",
      "Total assignment pairs with fully overlapping ranges are:  0\n"
     ]
    }
   ],
   "source": [
    "# PART 1\n",
    "\n",
    "f = open(\"data.txt\", \"r\")\n",
    "number = 0\n",
    "\n",
    "lines = f.readlines()\n",
    "# print(lines)\n",
    "\n",
    "lists = int(max(lines[3]))\n",
    "array = [[] for _ in range(lists)]\n",
    "print(array)\n",
    "\n",
    "for i in range(lists):\n",
    "    for j in range(3):\n",
    "        if lines[i][j+1] == \" \":\n",
    "            continue\n",
    "        else:\n",
    "            array[i].append(lines[i][j+1])\n",
    "\n",
    "\n",
    "print(array)\n",
    "\n",
    "\n",
    "# for line in f:\n",
    "#     if '[' in line:\n",
    "#         line = str(line[:-1])\n",
    "#     else:\n",
    "#         line = str(line)\n",
    "#     ind = line.index(\",\")\n",
    "#     sub1 = line[:ind]\n",
    "#     sub2 = line[ind+1:]\n",
    "#     if (int(sub1[:sub1.index(\"-\")]) <= int(sub2[:sub2.index(\"-\")]) and int(sub1[sub1.index(\"-\")+1:]) >= int(sub2[sub2.index(\"-\")+1:])):\n",
    "#             # print(\"sub1 first\", int(sub1[:sub1.index(\"-\")]), \"sub2 first\", int(sub2[:sub2.index(\"-\")]), \"sub1 last\", int(sub1[sub1.index(\"-\")+1:]), \"sub2 last\", int(sub2[sub2.index(\"-\")+1:]), \"1st Case: Adding 1\")\n",
    "#             number += 1\n",
    "#     elif (int(sub2[:sub2.index(\"-\")]) <= int(sub1[:sub1.index(\"-\")]) and int(sub2[sub2.index(\"-\")+1:]) >= int(sub1[sub1.index(\"-\")+1:])):\n",
    "#             # print(sub1, sub2, \"2nd Case: Adding 1\")\n",
    "#             number += 1\n",
    "\n",
    "print('Total assignment pairs with fully overlapping ranges are: ', number)\n",
    "f.close()"
   ]
  },
  {
   "cell_type": "code",
   "execution_count": null,
   "metadata": {},
   "outputs": [],
   "source": []
  },
  {
   "cell_type": "code",
   "execution_count": null,
   "metadata": {},
   "outputs": [],
   "source": []
  }
 ],
 "metadata": {
  "kernelspec": {
   "display_name": "Python 3.7.3 ('base')",
   "language": "python",
   "name": "python3"
  },
  "language_info": {
   "codemirror_mode": {
    "name": "ipython",
    "version": 3
   },
   "file_extension": ".py",
   "mimetype": "text/x-python",
   "name": "python",
   "nbconvert_exporter": "python",
   "pygments_lexer": "ipython3",
   "version": "3.7.3"
  },
  "orig_nbformat": 4,
  "vscode": {
   "interpreter": {
    "hash": "ad2bdc8ecc057115af97d19610ffacc2b4e99fae6737bb82f5d7fb13d2f2c186"
   }
  }
 },
 "nbformat": 4,
 "nbformat_minor": 2
}
