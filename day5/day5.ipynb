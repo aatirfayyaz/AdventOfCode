{
 "cells": [
  {
   "cell_type": "code",
   "execution_count": 21,
   "metadata": {},
   "outputs": [
    {
     "name": "stdout",
     "output_type": "stream",
     "text": [
      "J\n",
      "D\n",
      "T\n",
      "M\n",
      "R\n",
      "W\n",
      "C\n",
      "Q\n",
      "J\n"
     ]
    }
   ],
   "source": [
    "# PART 1\n",
    "\n",
    "f = open(\"data.txt\", \"r\")\n",
    "number = 0\n",
    "\n",
    "lines = f.readlines()\n",
    "# print(lines)\n",
    "\n",
    "lists = int(max(lines[8]))\n",
    "array = [[] for _ in range(lists)]\n",
    "# print(array)\n",
    "\n",
    "for i in range(7, -1, -1):\n",
    "    inc = 1\n",
    "    for j in range(lists):\n",
    "        # print(lines[i][j+inc], i, j+inc, '\\n')\n",
    "        if lines[i][j+inc] == \" \" or lines[i][j+inc] == \"\\n\":\n",
    "            inc += 3\n",
    "            continue\n",
    "        else:\n",
    "            array[j].append(lines[i][j+inc])\n",
    "            inc += 3\n",
    "\n",
    "\n",
    "# print(array)\n",
    "lines = lines[10:]\n",
    "# print(lines)\n",
    "\n",
    "for line in lines:\n",
    "    if line[6] in '0123456789':\n",
    "        for i in range(int(line[5])*10+int(line[6])):\n",
    "            tmp = array[int(line[13])-1].pop()\n",
    "            array[int(line[18])-1].append(tmp)\n",
    "    else:\n",
    "        for i in range(int(line[5])):\n",
    "            tmp = array[int(line[12])-1].pop()\n",
    "            array[int(line[17])-1].append(tmp)\n",
    "\n",
    "# print('Final lists: ', array)\n",
    "\n",
    "for element in array:\n",
    "    print(element[-1])\n",
    "\n",
    "f.close()"
   ]
  },
  {
   "cell_type": "code",
   "execution_count": 17,
   "metadata": {},
   "outputs": [
    {
     "name": "stdout",
     "output_type": "stream",
     "text": [
      "[['F', 'H', 'B', 'V', 'R', 'Q', 'D', 'P'], ['L', 'D', 'Z', 'Q', 'W', 'V'], ['H', 'L', 'Z', 'Q', 'G', 'R', 'P', 'C'], ['R', 'D', 'H', 'F', 'J', 'V', 'B'], ['Z', 'W', 'L', 'C'], ['J', 'R', 'P', 'N', 'T', 'G', 'V', 'M'], ['J', 'R', 'L', 'V', 'M', 'B', 'S'], ['D', 'P', 'J'], ['D', 'C', 'N', 'W', 'V']]\n",
      "V\n",
      "H\n",
      "J\n",
      "D\n",
      "D\n",
      "C\n",
      "W\n",
      "R\n",
      "D\n"
     ]
    }
   ],
   "source": [
    "# PART 2\n",
    "\n",
    "f = open(\"data.txt\", \"r\")\n",
    "number = 0\n",
    "\n",
    "lines = f.readlines()\n",
    "# print(lines)\n",
    "\n",
    "lists = int(max(lines[8]))\n",
    "array = [[] for _ in range(lists)]\n",
    "# print(array)\n",
    "\n",
    "for i in range(7, -1, -1):\n",
    "    inc = 1\n",
    "    for j in range(lists):\n",
    "        # print(lines[i][j+inc], i, j+inc, '\\n')\n",
    "        if lines[i][j+inc] == \" \" or lines[i][j+inc] == \"\\n\":\n",
    "            inc += 3\n",
    "            continue\n",
    "        else:\n",
    "            array[j].append(lines[i][j+inc])\n",
    "            inc += 3\n",
    "\n",
    "\n",
    "print(array)\n",
    "lines = lines[10:]\n",
    "# print(lines)\n",
    "\n",
    "for line in lines:\n",
    "    if line[6] in '0123456789':\n",
    "            tmp = array[int(line[13])-1][-(int(line[5])*10+int(line[6])):]\n",
    "            del array[int(line[13])-1][-(int(line[5])*10+int(line[6])):]\n",
    "            # print(tmp)\n",
    "            # print(array[int(line[13])-1])\n",
    "            array[int(line[18])-1].extend(tmp)\n",
    "            # print(array[int(line[18])-1])\n",
    "    else:\n",
    "            tmp = array[int(line[12])-1][-int(line[5]):]\n",
    "            del array[int(line[12])-1][-int(line[5]):]\n",
    "            # print(tmp)\n",
    "            # print(array[int(line[12])-1])\n",
    "            array[int(line[17])-1].extend(tmp)\n",
    "            # print(array[int(line[17])-1])\n",
    "\n",
    "# print('Final lists: ', array)\n",
    "\n",
    "for element in array:\n",
    "    \n",
    "    print(element[-1])\n",
    "\n",
    "f.close()"
   ]
  },
  {
   "cell_type": "code",
   "execution_count": null,
   "metadata": {},
   "outputs": [],
   "source": []
  },
  {
   "cell_type": "code",
   "execution_count": null,
   "metadata": {},
   "outputs": [],
   "source": []
  }
 ],
 "metadata": {
  "kernelspec": {
   "display_name": "Python 3.7.3 ('env')",
   "language": "python",
   "name": "python3"
  },
  "language_info": {
   "codemirror_mode": {
    "name": "ipython",
    "version": 3
   },
   "file_extension": ".py",
   "mimetype": "text/x-python",
   "name": "python",
   "nbconvert_exporter": "python",
   "pygments_lexer": "ipython3",
   "version": "3.7.3"
  },
  "orig_nbformat": 4,
  "vscode": {
   "interpreter": {
    "hash": "cacbb7c6e0859cebf5bc26fedfa0db5d7ccf6d72dd1fee6ba957cedea9270a6c"
   }
  }
 },
 "nbformat": 4,
 "nbformat_minor": 2
}
