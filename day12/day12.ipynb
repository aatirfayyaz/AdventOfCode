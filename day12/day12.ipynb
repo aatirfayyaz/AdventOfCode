{
 "cells": [
  {
   "cell_type": "code",
   "execution_count": 43,
   "metadata": {},
   "outputs": [
    {
     "name": "stdout",
     "output_type": "stream",
     "text": [
      "Part 1 answer:  504\n"
     ]
    }
   ],
   "source": [
    "# PART 1\n",
    "import collections\n",
    "\n",
    "\n",
    "def findPath(f, startRow, startCol, endRow, endCol, maxRow, maxCol):\n",
    "    \n",
    "    heights = {chr(i): i - 96 for i in range(97, 97 + 26)}\n",
    "    heights['S'] = 1\n",
    "    heights['E'] = 26\n",
    "    queue, beenBefore = collections.deque(), set()\n",
    "    queue.append([(startCol, startRow)])\n",
    "\n",
    "    while queue:\n",
    "\n",
    "        path = queue.popleft()\n",
    "        col, row = path[-1]\n",
    "        current_height = heights[f[row][col]]\n",
    "\n",
    "        if (col, row) not in beenBefore:\n",
    "            beenBefore.add((col, row))\n",
    "\n",
    "            if (col, row) == (endCol, endRow):\n",
    "                return len(path)-1\n",
    "\n",
    "            for node in possibleSteps(col, row, maxRow, maxCol):\n",
    "                node_col, node_row = node\n",
    "                node_height = heights[f[node_row][node_col]]\n",
    "\n",
    "                if node_height <= current_height + 1:\n",
    "                    path_copy = path[:]\n",
    "                    path_copy.append(node)\n",
    "                    queue.append(path_copy)\n",
    "\n",
    "\n",
    "def possibleSteps(col, row, maxRow, maxCol):\n",
    "    if (col, row) == (0, 0):\n",
    "        return [(col+1, row), (col, row+1)]\n",
    "    elif col == 0:\n",
    "        if row == maxRow: return [(col, row-1), (col+1, row)]\n",
    "        else: return [(col, row-1), (col, row+1), (col+1, row)]\n",
    "    elif row == 0:\n",
    "        if col == maxCol: return [(col, row+1), (col-1, row)]\n",
    "        else: return [(col, row+1), (col+1, row), (col-1, row)]\n",
    "    elif (col, row) == (maxCol, maxRow):\n",
    "        return [(col-1, row), (col, row-1)]\n",
    "    elif col == maxCol:\n",
    "        return [(col-1, row), (col, row-1), (col, row+1)]\n",
    "    elif row == maxRow:\n",
    "        return [(col-1, row), (col+1, row), (col, row-1)]\n",
    "    else:\n",
    "        return [(col-1, row), (col+1, row), (col, row-1), (col, row+1)]\n",
    "\n",
    "\n",
    "f = open(\"data.txt\", \"r\")\n",
    "f = f.read().splitlines()\n",
    "\n",
    "for row, line in enumerate(f):\n",
    "    if 'S' in line: startRow, startCol = (row, line.index('S'))\n",
    "    if 'E' in line: endRow, endCol = (row, line.index('E'))\n",
    "\n",
    "maxRow = len(f) - 1\n",
    "maxCol = len(f[0]) - 1\n",
    "\n",
    "path = findPath(f, startRow, startCol, endRow, endCol, maxRow, maxCol)\n",
    "print(\"Part 1 answer: \", path)\n",
    "\n"
   ]
  },
  {
   "cell_type": "code",
   "execution_count": 51,
   "metadata": {},
   "outputs": [
    {
     "name": "stdout",
     "output_type": "stream",
     "text": [
      "Part 2 answer:  500\n"
     ]
    }
   ],
   "source": [
    "# PART 2\n",
    "\n",
    "startingPoints = []\n",
    "distances = []\n",
    "\n",
    "for row, line in enumerate(f):\n",
    "    if 'a' in line: startingPoints.append((row, line.index('a')))\n",
    "    if 'S' in line: startingPoints.append((row, line.index('a')))\n",
    "\n",
    "for start in startingPoints:\n",
    "    startRow, startCol = start\n",
    "    path = findPath(f, startRow, startCol, endRow, endCol, maxRow, maxCol)\n",
    "    distances.append(path if path != None else 9999)\n",
    "    # print(\"When starting at\", start, \" distance is\", path)\n",
    "\n",
    "print(\"Part 2 answer: \", min(distances))"
   ]
  },
  {
   "cell_type": "code",
   "execution_count": null,
   "metadata": {},
   "outputs": [],
   "source": []
  },
  {
   "cell_type": "code",
   "execution_count": null,
   "metadata": {},
   "outputs": [],
   "source": []
  }
 ],
 "metadata": {
  "kernelspec": {
   "display_name": "Python 3.7.3 ('base')",
   "language": "python",
   "name": "python3"
  },
  "language_info": {
   "codemirror_mode": {
    "name": "ipython",
    "version": 3
   },
   "file_extension": ".py",
   "mimetype": "text/x-python",
   "name": "python",
   "nbconvert_exporter": "python",
   "pygments_lexer": "ipython3",
   "version": "3.7.3"
  },
  "orig_nbformat": 4,
  "vscode": {
   "interpreter": {
    "hash": "ad2bdc8ecc057115af97d19610ffacc2b4e99fae6737bb82f5d7fb13d2f2c186"
   }
  }
 },
 "nbformat": 4,
 "nbformat_minor": 2
}
