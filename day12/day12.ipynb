{
 "cells": [
  {
   "cell_type": "code",
   "execution_count": 43,
   "metadata": {},
   "outputs": [
    {
     "name": "stdout",
     "output_type": "stream",
     "text": [
      "Part 1 answer:  504\n"
     ]
    }
   ],
   "source": [
    "# PART 1\n",
    "import collections\n",
    "\n",
    "\n",
    "def findPath(f, startRow, startCol, endRow, endCol, maxRow, maxCol):\n",
    "    \n",
    "    heights = {chr(i): i - 96 for i in range(97, 97 + 26)}\n",
    "    heights['S'] = 1\n",
    "    heights['E'] = 26\n",
    "    queue, beenBefore = collections.deque(), set()\n",
    "    queue.append([(startCol, startRow)])\n",
    "\n",
    "    while queue:\n",
    "\n",
    "        path = queue.popleft()\n",
    "        col, row = path[-1]\n",
    "        current_height = heights[f[row][col]]\n",
    "\n",
    "        if (col, row) not in beenBefore:\n",
    "            beenBefore.add((col, row))\n",
    "\n",
    "            if (col, row) == (endCol, endRow):\n",
    "                return len(path)-1\n",
    "\n",
    "            for node in possibleSteps(col, row, maxRow, maxCol):\n",
    "                node_col, node_row = node\n",
    "                node_height = heights[f[node_row][node_col]]\n",
    "\n",
    "                if node_height <= current_height + 1:\n",
    "                    path_copy = path[:]\n",
    "                    path_copy.append(node)\n",
    "                    queue.append(path_copy)\n",
    "\n",
    "\n",
    "def possibleSteps(col, row, maxRow, maxCol):\n",
    "    if (col, row) == (0, 0):\n",
    "        return [(col+1, row), (col, row+1)]\n",
    "    elif col == 0:\n",
    "        if row == maxRow: return [(col, row-1), (col+1, row)]\n",
    "        else: return [(col, row-1), (col, row+1), (col+1, row)]\n",
    "    elif row == 0:\n",
    "        if col == maxCol: return [(col, row+1), (col-1, row)]\n",
    "        else: return [(col, row+1), (col+1, row), (col-1, row)]\n",
    "    elif (col, row) == (maxCol, maxRow):\n",
    "        return [(col-1, row), (col, row-1)]\n",
    "    elif col == maxCol:\n",
    "        return [(col-1, row), (col, row-1), (col, row+1)]\n",
    "    elif row == maxRow:\n",
    "        return [(col-1, row), (col+1, row), (col, row-1)]\n",
    "    else:\n",
    "        return [(col-1, row), (col+1, row), (col, row-1), (col, row+1)]\n",
    "\n",
    "\n",
    "f = open(\"data.txt\", \"r\")\n",
    "f = f.read().splitlines()\n",
    "\n",
    "for row, line in enumerate(f):\n",
    "    if 'S' in line: startRow, startCol = (row, line.index('S'))\n",
    "    if 'E' in line: endRow, endCol = (row, line.index('E'))\n",
    "\n",
    "maxRow = len(f) - 1\n",
    "maxCol = len(f[0]) - 1\n",
    "\n",
    "path = findPath(f, startRow, startCol, endRow, endCol, maxRow, maxCol)\n",
    "print(\"Part 1 answer: \", path)\n",
    "\n"
   ]
  },
  {
   "cell_type": "code",
   "execution_count": 50,
   "metadata": {},
   "outputs": [
    {
     "name": "stdout",
     "output_type": "stream",
     "text": [
      "When starting at (0, 0)  distance is 514\n",
      "When starting at (1, 0)  distance is 513\n",
      "When starting at (2, 0)  distance is 512\n",
      "When starting at (3, 0)  distance is 511\n",
      "When starting at (4, 0)  distance is 510\n",
      "When starting at (5, 0)  distance is 509\n",
      "When starting at (6, 0)  distance is 508\n",
      "When starting at (7, 0)  distance is 507\n",
      "When starting at (8, 0)  distance is 506\n",
      "When starting at (9, 0)  distance is 505\n",
      "When starting at (10, 0)  distance is 504\n",
      "When starting at (11, 0)  distance is 503\n",
      "When starting at (12, 0)  distance is 502\n",
      "When starting at (13, 0)  distance is 501\n",
      "When starting at (14, 0)  distance is 500\n",
      "When starting at (15, 0)  distance is 501\n",
      "When starting at (16, 0)  distance is 500\n",
      "When starting at (17, 0)  distance is 501\n",
      "When starting at (18, 0)  distance is 502\n",
      "When starting at (19, 0)  distance is 503\n",
      "When starting at (20, 7)  distance is None\n",
      "When starting at (20, 7)  distance is None\n",
      "When starting at (21, 0)  distance is 505\n",
      "When starting at (22, 0)  distance is 506\n",
      "When starting at (23, 0)  distance is 505\n",
      "When starting at (24, 0)  distance is 504\n",
      "When starting at (25, 0)  distance is 503\n",
      "When starting at (26, 0)  distance is 502\n",
      "When starting at (27, 0)  distance is 501\n",
      "When starting at (28, 0)  distance is 502\n",
      "When starting at (29, 0)  distance is 503\n",
      "When starting at (30, 0)  distance is 504\n",
      "When starting at (31, 0)  distance is 505\n",
      "When starting at (32, 0)  distance is 506\n",
      "When starting at (33, 0)  distance is 507\n",
      "When starting at (34, 0)  distance is 508\n",
      "When starting at (35, 0)  distance is 509\n",
      "When starting at (36, 0)  distance is 510\n",
      "When starting at (37, 0)  distance is 511\n",
      "When starting at (38, 0)  distance is 512\n",
      "When starting at (39, 0)  distance is 513\n",
      "When starting at (40, 0)  distance is 514\n",
      "Part 2 answer:  500\n"
     ]
    }
   ],
   "source": [
    "# PART 2\n",
    "\n",
    "startingPoints = []\n",
    "distances = []\n",
    "\n",
    "for row, line in enumerate(f):\n",
    "    if 'a' in line: startingPoints.append((row, line.index('a')))\n",
    "    if 'S' in line: startingPoints.append((row, line.index('a')))\n",
    "\n",
    "for start in startingPoints:\n",
    "    startRow, startCol = start\n",
    "    path = findPath(f, startRow, startCol, endRow, endCol, maxRow, maxCol)\n",
    "    distances.append(path if path != None else 9999)\n",
    "    print(\"When starting at\", start, \" distance is\", path)\n",
    "\n",
    "print(\"Part 2 answer: \", min(distances))"
   ]
  },
  {
   "cell_type": "code",
   "execution_count": null,
   "metadata": {},
   "outputs": [],
   "source": []
  },
  {
   "cell_type": "code",
   "execution_count": null,
   "metadata": {},
   "outputs": [],
   "source": []
  }
 ],
 "metadata": {
  "kernelspec": {
   "display_name": "Python 3.7.3 ('base')",
   "language": "python",
   "name": "python3"
  },
  "language_info": {
   "codemirror_mode": {
    "name": "ipython",
    "version": 3
   },
   "file_extension": ".py",
   "mimetype": "text/x-python",
   "name": "python",
   "nbconvert_exporter": "python",
   "pygments_lexer": "ipython3",
   "version": "3.7.3"
  },
  "orig_nbformat": 4,
  "vscode": {
   "interpreter": {
    "hash": "ad2bdc8ecc057115af97d19610ffacc2b4e99fae6737bb82f5d7fb13d2f2c186"
   }
  }
 },
 "nbformat": 4,
 "nbformat_minor": 2
}
