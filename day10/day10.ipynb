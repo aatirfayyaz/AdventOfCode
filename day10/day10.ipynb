{
 "cells": [
  {
   "cell_type": "code",
   "execution_count": 10,
   "metadata": {},
   "outputs": [
    {
     "name": "stdout",
     "output_type": "stream",
     "text": [
      "Part 1 answer - Signal Strength  12540\n"
     ]
    }
   ],
   "source": [
    "# PART 1\n",
    "\n",
    "cycles = 1\n",
    "register = 1\n",
    "signalStrength = 0\n",
    "\n",
    "f = open(\"data.txt\", \"r\")\n",
    "f = f.read().splitlines()\n",
    "\n",
    "for line in f:\n",
    "    if line[0][0] == \"n\":\n",
    "        # print(\"Processing cycle: \", cycles, \"with register value: \", register)\n",
    "        if ((cycles - 20) % 40 == 0):\n",
    "            # print(signalStrength, register, cycles)\n",
    "            signalStrength += cycles * register\n",
    "        cycles += 1\n",
    "    else:\n",
    "        for i in range(2):\n",
    "            # print(\"Processing cycle: \", cycles, \"with register value: \", register)\n",
    "            if ((cycles - 20) % 40 == 0):\n",
    "                # print(signalStrength, register, cycles)\n",
    "                signalStrength += cycles * register\n",
    "            if (i == 1):\n",
    "                # print(\"Adding\", int(line[4:]), \"to register: \", register)\n",
    "                register += int(line[4:])\n",
    "            \n",
    "            cycles += 1\n",
    "\n",
    "print(\"Part 1 answer - Signal Strength \", signalStrength)"
   ]
  },
  {
   "cell_type": "code",
   "execution_count": 27,
   "metadata": {},
   "outputs": [
    {
     "name": "stdout",
     "output_type": "stream",
     "text": [
      "['#', '#', '#', '#', '.', '#', '#', '#', '#', '.', '.', '#', '#', '.', '.', '#', '#', '#', '#', '.', '#', '#', '#', '#', '.', '#', '.', '.', '.', '.', '#', '.', '.', '#', '.', '#', '#', '#', '#']\n",
      "['#', '.', '.', '.', '.', '#', '.', '.', '.', '.', '#', '.', '.', '#', '.', '.', '.', '.', '#', '.', '#', '.', '.', '.', '.', '#', '.', '.', '.', '.', '#', '.', '.', '#', '.', '#', '.', '.', '.']\n",
      "['#', '#', '#', '.', '.', '#', '#', '#', '.', '.', '#', '.', '.', '.', '.', '.', '.', '#', '.', '.', '#', '#', '#', '.', '.', '#', '.', '.', '.', '.', '#', '#', '#', '#', '.', '#', '#', '#', '.']\n",
      "['#', '.', '.', '.', '.', '#', '.', '.', '.', '.', '#', '.', '.', '.', '.', '.', '#', '.', '.', '.', '#', '.', '.', '.', '.', '#', '.', '.', '.', '.', '#', '.', '.', '#', '.', '#', '.', '.', '.']\n",
      "['#', '.', '.', '.', '.', '#', '.', '.', '.', '.', '#', '.', '.', '#', '.', '#', '.', '.', '.', '.', '#', '.', '.', '.', '.', '#', '.', '.', '.', '.', '#', '.', '.', '#', '.', '#', '.', '.', '.']\n",
      "['#', '.', '.', '.', '.', '#', '#', '#', '#', '.', '.', '#', '#', '.', '.', '#', '#', '#', '#', '.', '#', '#', '#', '#', '.', '#', '#', '#', '#', '.', '#', '.', '.', '#', '.', '#', '#', '#', '#']\n"
     ]
    }
   ],
   "source": [
    "# PART 2\n",
    "\n",
    "CRT = [\"\" for _ in range(240)]\n",
    "cycles = 0\n",
    "register = 1\n",
    "\n",
    "f = open(\"data.txt\", \"r\")\n",
    "f = f.read().splitlines()\n",
    "\n",
    "for line in f:\n",
    "    if line[0][0] == \"n\":\n",
    "        # print(\"Processing cycles: \", cycles, \"with register value: \", register)\n",
    "        if ((cycles % 40) >= (register-1) and (cycles % 40) <= (register+1)):\n",
    "            CRT[cycles] = '#'\n",
    "        else:\n",
    "            CRT[cycles] = '.'\n",
    "\n",
    "        cycles += 1\n",
    "    else:\n",
    "        for i in range(2):\n",
    "            # print(\"Processing cycles: \", cycles, \"with register value: \", register)\n",
    "            if ((cycles % 40) >= (register-1) and (cycles % 40) <= (register+1)):\n",
    "                CRT[cycles] = '#'\n",
    "            else:\n",
    "                CRT[cycles] = '.'\n",
    "            if (i == 1):\n",
    "                # print(\"Adding\", int(line[4:]), \"to register: \", register)\n",
    "                register += int(line[4:])\n",
    "            cycles += 1\n",
    "\n",
    "print(CRT[0:39])\n",
    "print(CRT[40:79])\n",
    "print(CRT[80:119])\n",
    "print(CRT[120:159])\n",
    "print(CRT[160:199])\n",
    "print(CRT[200:239])\n",
    "# print(\"Part 2 answer - Signal Strength \", signalStrength)"
   ]
  },
  {
   "cell_type": "code",
   "execution_count": null,
   "metadata": {},
   "outputs": [],
   "source": []
  }
 ],
 "metadata": {
  "kernelspec": {
   "display_name": "Python 3.7.3 ('base')",
   "language": "python",
   "name": "python3"
  },
  "language_info": {
   "codemirror_mode": {
    "name": "ipython",
    "version": 3
   },
   "file_extension": ".py",
   "mimetype": "text/x-python",
   "name": "python",
   "nbconvert_exporter": "python",
   "pygments_lexer": "ipython3",
   "version": "3.7.3"
  },
  "orig_nbformat": 4,
  "vscode": {
   "interpreter": {
    "hash": "ad2bdc8ecc057115af97d19610ffacc2b4e99fae6737bb82f5d7fb13d2f2c186"
   }
  }
 },
 "nbformat": 4,
 "nbformat_minor": 2
}
