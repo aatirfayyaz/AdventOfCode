{
 "cells": [
  {
   "cell_type": "code",
   "execution_count": 1,
   "metadata": {},
   "outputs": [
    {
     "name": "stdout",
     "output_type": "stream",
     "text": [
      "Processing cycle:  1 with register value:  1\n",
      "Processing cycle:  2 with register value:  1\n",
      "Processing cycle:  3 with register value:  1\n",
      "Adding 3 to register:  1\n",
      "Processing cycle:  4 with register value:  4\n",
      "Processing cycle:  5 with register value:  4\n",
      "Adding -5 to register:  4\n",
      "Part 1 answer:  0 6\n"
     ]
    }
   ],
   "source": [
    "cycles = 1\n",
    "register = 1\n",
    "signalStrength = 0\n",
    "\n",
    "f = open(\"data.txt\", \"r\")\n",
    "f = f.read().splitlines()\n",
    "\n",
    "for line in f:\n",
    "    if line[0][0] == \"n\":\n",
    "        print(\"Processing cycle: \", cycles, \"with register value: \", register)\n",
    "        if ((cycles - 20) % 40 == 0):\n",
    "            print(signalStrength, register, cycles)\n",
    "            signalStrength += cycles * register\n",
    "        cycles += 1\n",
    "    else:\n",
    "        for i in range(2):\n",
    "            print(\"Processing cycle: \", cycles, \"with register value: \", register)\n",
    "            if ((cycles - 20) % 40 == 0):\n",
    "                print(signalStrength, register, cycles)\n",
    "                signalStrength += cycles * register\n",
    "            if (i == 1):\n",
    "                print(\"Adding\", int(line[4:]), \"to register: \", register)\n",
    "                register += int(line[4:])\n",
    "            \n",
    "            cycles += 1\n",
    "\n",
    "print(\"Part 1 answer: \", signalStrength, cycles)"
   ]
  },
  {
   "cell_type": "code",
   "execution_count": null,
   "metadata": {},
   "outputs": [],
   "source": []
  },
  {
   "cell_type": "code",
   "execution_count": null,
   "metadata": {},
   "outputs": [],
   "source": []
  }
 ],
 "metadata": {
  "kernelspec": {
   "display_name": "Python 3.7.3 ('base')",
   "language": "python",
   "name": "python3"
  },
  "language_info": {
   "codemirror_mode": {
    "name": "ipython",
    "version": 3
   },
   "file_extension": ".py",
   "mimetype": "text/x-python",
   "name": "python",
   "nbconvert_exporter": "python",
   "pygments_lexer": "ipython3",
   "version": "3.7.3"
  },
  "orig_nbformat": 4,
  "vscode": {
   "interpreter": {
    "hash": "ad2bdc8ecc057115af97d19610ffacc2b4e99fae6737bb82f5d7fb13d2f2c186"
   }
  }
 },
 "nbformat": 4,
 "nbformat_minor": 2
}
