{
 "cells": [
  {
   "cell_type": "code",
   "execution_count": 14,
   "metadata": {},
   "outputs": [],
   "source": [
    "import re"
   ]
  },
  {
   "cell_type": "code",
   "execution_count": 15,
   "metadata": {},
   "outputs": [],
   "source": [
    "# PART 1\n",
    "\n",
    "\n",
    "def manhattanDistance(A: tuple, B: tuple):\n",
    "    return abs(A[0] - B[0]) + abs(A[1] - B[1])\n",
    "\n",
    "\n",
    "\n",
    "with open(\"data.txt\", \"r\") as f:\n",
    "    nums = [re.findall(\"(-?\\d+)\", lines) for lines in f.readlines()]\n",
    "\n",
    "beacons = []\n",
    "sensors = []\n",
    "distances = []\n",
    "\n",
    "for line in nums:\n",
    "    sensors.append((int(line[0]), int(line[1])))\n",
    "    beacons.append((int(line[2]), int(line[3])))\n",
    "    distances.append(manhattanDistance(sensors[-1], beacons[-1]))\n"
   ]
  },
  {
   "cell_type": "code",
   "execution_count": null,
   "metadata": {},
   "outputs": [],
   "source": []
  }
 ],
 "metadata": {
  "kernelspec": {
   "display_name": "Python 3.7.3 ('base')",
   "language": "python",
   "name": "python3"
  },
  "language_info": {
   "codemirror_mode": {
    "name": "ipython",
    "version": 3
   },
   "file_extension": ".py",
   "mimetype": "text/x-python",
   "name": "python",
   "nbconvert_exporter": "python",
   "pygments_lexer": "ipython3",
   "version": "3.7.3"
  },
  "orig_nbformat": 4,
  "vscode": {
   "interpreter": {
    "hash": "ad2bdc8ecc057115af97d19610ffacc2b4e99fae6737bb82f5d7fb13d2f2c186"
   }
  }
 },
 "nbformat": 4,
 "nbformat_minor": 2
}
