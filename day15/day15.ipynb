{
 "cells": [
  {
   "cell_type": "code",
   "execution_count": 1,
   "metadata": {},
   "outputs": [],
   "source": [
    "import re"
   ]
  },
  {
   "cell_type": "code",
   "execution_count": 47,
   "metadata": {},
   "outputs": [
    {
     "name": "stdout",
     "output_type": "stream",
     "text": [
      "5073496\n"
     ]
    }
   ],
   "source": [
    "# PART 1\n",
    "\n",
    "\n",
    "def manhattanDistance(A: tuple, B: tuple):\n",
    "    return abs(A[0] - B[0]) + abs(A[1] - B[1])\n",
    "\n",
    "\n",
    "with open(\"data.txt\", \"r\") as f:\n",
    "    nums = [re.findall(\"(-?\\d+)\", lines) for lines in f.readlines()]\n",
    "\n",
    "beacons = []\n",
    "sensors = []\n",
    "distances = []\n",
    "\n",
    "for idx, line in enumerate(nums):\n",
    "    sensors.append((int(line[0]), int(line[1])))\n",
    "    beacons.append((int(line[2]), int(line[3])))\n",
    "    distances.append(manhattanDistance(sensors[idx], beacons[idx]))\n",
    "\n",
    "counts = set()\n",
    "checkRow = 2000000\n",
    "beaconSet = set(beacons)\n",
    "sensorSet = set(sensors)\n",
    "\n",
    "for i in range(-10000000, 10000000):\n",
    "    for idx, sensor in enumerate(sensors):\n",
    "        if ((i, checkRow) not in counts) and ((i, checkRow) not in beaconSet) and (manhattanDistance((i, checkRow), sensor) <= distances[idx]):\n",
    "            # print(\"Point:\", (i, checkRow), \"Sensor:\", sensor, \"closest beacon distance:\", distances[idx])\n",
    "            counts.add((i, checkRow))\n",
    "\n",
    "# print(sorted(counts))\n",
    "print(\"Part1 Ans:\", len(counts))"
   ]
  },
  {
   "cell_type": "code",
   "execution_count": 50,
   "metadata": {},
   "outputs": [
    {
     "name": "stdout",
     "output_type": "stream",
     "text": [
      "Found only spot at x, y: 3270298 2638237 after: 4226755 checks\n",
      "Part2 Ans:  13081194638237\n"
     ]
    }
   ],
   "source": [
    "# PART 2\n",
    "\n",
    "\n",
    "def manhattanDistance(A: tuple, B: tuple):\n",
    "    return abs(A[0] - B[0]) + abs(A[1] - B[1])\n",
    "\n",
    "\n",
    "def proximityCheck(x, y, sensorSet):\n",
    "    for (sensorX, sensorY, distance) in sensorSet:\n",
    "        if manhattanDistance((x, y), (sensorX, sensorY)) <= distance:\n",
    "            return False\n",
    "    return True\n",
    "\n",
    "beacons = []\n",
    "sensors = []\n",
    "sensorSet = set()\n",
    "n_checked = 0\n",
    "maxX = 4000000\n",
    "maxY = 4000000\n",
    "\n",
    "for idx, line in enumerate(nums):\n",
    "    sensors.append((int(line[0]), int(line[1])))\n",
    "    beacons.append((int(line[2]), int(line[3])))\n",
    "    sensorSet.add((int(line[0]), int(line[1]), manhattanDistance(sensors[idx], beacons[idx])))\n",
    "\n",
    "notFound = True\n",
    "for (sensorX, sensorY, distance) in sensorSet:\n",
    "    if notFound == False:\n",
    "        break\n",
    "    for possibleX in range(distance + 2):\n",
    "        possibleY = (distance + 1) - possibleX\n",
    "        for position in [(-1,-1), (-1,1), (1,-1), (1,1)]:\n",
    "            n_checked += 1\n",
    "            x = sensorX + (possibleX * position[0])\n",
    "            y = sensorY + (possibleY * position[1])\n",
    "            if not(0 <= x <= maxX and 0 <= y <=maxY):\n",
    "                continue\n",
    "            assert abs(x - sensorX) + abs(y - sensorY) == distance + 1\n",
    "            if notFound and proximityCheck(x, y, sensorSet):\n",
    "                print(\"Found only spot at x, y:\", x, y, \"after:\", n_checked, \"checks\")\n",
    "                print(\"Part2 Ans: \", x * 4000000 + y)\n",
    "                notFound = False"
   ]
  },
  {
   "cell_type": "code",
   "execution_count": null,
   "metadata": {},
   "outputs": [],
   "source": []
  },
  {
   "cell_type": "code",
   "execution_count": null,
   "metadata": {},
   "outputs": [],
   "source": []
  }
 ],
 "metadata": {
  "kernelspec": {
   "display_name": "Python 3.10.0 32-bit",
   "language": "python",
   "name": "python3"
  },
  "language_info": {
   "codemirror_mode": {
    "name": "ipython",
    "version": 3
   },
   "file_extension": ".py",
   "mimetype": "text/x-python",
   "name": "python",
   "nbconvert_exporter": "python",
   "pygments_lexer": "ipython3",
   "version": "3.10.0"
  },
  "orig_nbformat": 4,
  "vscode": {
   "interpreter": {
    "hash": "17999a8378a35389798968e93db08ea75eb5d1a70e903bcba9755769bbb8bc7a"
   }
  }
 },
 "nbformat": 4,
 "nbformat_minor": 2
}
