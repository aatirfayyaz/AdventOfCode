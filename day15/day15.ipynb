{
 "cells": [
  {
   "cell_type": "code",
   "execution_count": 2,
   "metadata": {},
   "outputs": [],
   "source": [
    "import re"
   ]
  },
  {
   "cell_type": "code",
   "execution_count": 20,
   "metadata": {},
   "outputs": [
    {
     "name": "stdout",
     "output_type": "stream",
     "text": [
      "YESSIR\n"
     ]
    },
    {
     "ename": "KeyError",
     "evalue": "(2, 10)",
     "output_type": "error",
     "traceback": [
      "\u001b[1;31m---------------------------------------------------------------------------\u001b[0m",
      "\u001b[1;31mKeyError\u001b[0m                                  Traceback (most recent call last)",
      "\u001b[1;32m~\\AppData\\Local\\Temp\\ipykernel_18612\\256212880.py\u001b[0m in \u001b[0;36m<module>\u001b[1;34m\u001b[0m\n\u001b[0;32m     45\u001b[0m \u001b[1;32mfor\u001b[0m \u001b[0mbeacon\u001b[0m \u001b[1;32min\u001b[0m \u001b[0mbeacons\u001b[0m\u001b[1;33m:\u001b[0m\u001b[1;33m\u001b[0m\u001b[1;33m\u001b[0m\u001b[0m\n\u001b[0;32m     46\u001b[0m     \u001b[1;32mif\u001b[0m \u001b[0mbeacon\u001b[0m\u001b[1;33m[\u001b[0m\u001b[1;36m1\u001b[0m\u001b[1;33m]\u001b[0m \u001b[1;33m==\u001b[0m \u001b[0mcheckRow\u001b[0m\u001b[1;33m:\u001b[0m\u001b[1;33m\u001b[0m\u001b[1;33m\u001b[0m\u001b[0m\n\u001b[1;32m---> 47\u001b[1;33m         \u001b[0mcounts\u001b[0m\u001b[1;33m.\u001b[0m\u001b[0mremove\u001b[0m\u001b[1;33m(\u001b[0m\u001b[1;33m(\u001b[0m\u001b[0mbeacon\u001b[0m\u001b[1;33m)\u001b[0m\u001b[1;33m)\u001b[0m\u001b[1;33m\u001b[0m\u001b[1;33m\u001b[0m\u001b[0m\n\u001b[0m\u001b[0;32m     48\u001b[0m \u001b[1;33m\u001b[0m\u001b[0m\n\u001b[0;32m     49\u001b[0m \u001b[0mprint\u001b[0m\u001b[1;33m(\u001b[0m\u001b[0msorted\u001b[0m\u001b[1;33m(\u001b[0m\u001b[0mcounts\u001b[0m\u001b[1;33m)\u001b[0m\u001b[1;33m)\u001b[0m\u001b[1;33m\u001b[0m\u001b[1;33m\u001b[0m\u001b[0m\n",
      "\u001b[1;31mKeyError\u001b[0m: (2, 10)"
     ]
    }
   ],
   "source": [
    "# PART 1\n",
    "\n",
    "\n",
    "def manhattanDistance(A: tuple, B: tuple):\n",
    "    return abs(A[0] - B[0]) + abs(A[1] - B[1])\n",
    "\n",
    "\n",
    "with open(\"data.txt\", \"r\") as f:\n",
    "    nums = [re.findall(\"(-?\\d+)\", lines) for lines in f.readlines()]\n",
    "\n",
    "beacons = []\n",
    "sensors = []\n",
    "distances = []\n",
    "lowestX, highestX = 99999, 0\n",
    "LX, HX, = 99999, 0\n",
    "\n",
    "for line in nums:\n",
    "    sensors.append((int(line[0]), int(line[1])))\n",
    "    beacons.append((int(line[2]), int(line[3])))\n",
    "    LX = min(int(line[0]), int(line[2])) if min(int(line[0]), int(line[2])) < LX else LX\n",
    "    lowestX = LX if LX < lowestX else LX\n",
    "    HX = max(int(line[0]), int(line[2])) if max(int(line[0]), int(line[2])) > HX else HX\n",
    "    highestX = HX if HX > highestX else HX\n",
    "    distances.append(manhattanDistance((int(line[0]), int(line[1])), (int(line[2]), int(line[3]))))\n",
    "\n",
    "count = 0\n",
    "counts = set()\n",
    "checkRow = 10\n",
    "\n",
    "# print(sensors)\n",
    "# print(beacons)\n",
    "# print(distances)\n",
    "\n",
    "for i in range(lowestX, highestX):\n",
    "    for idx, sensor in enumerate(sensors):\n",
    "        # print(sensor, distances[idx])\n",
    "        if manhattanDistance((i, checkRow), sensor) <= distances[idx]:\n",
    "            counts.add((i, checkRow))\n",
    "            count = count + 1\n",
    "            break\n",
    "\n",
    "if (2,10) in counts:\n",
    "    print(\"YESSIR\")\n",
    "\n",
    "for beacon in beacons:\n",
    "    if beacon[1] == checkRow:\n",
    "        counts.remove((beacon))\n",
    "\n",
    "print(sorted(counts))\n",
    "print(count)"
   ]
  },
  {
   "cell_type": "code",
   "execution_count": null,
   "metadata": {},
   "outputs": [],
   "source": []
  },
  {
   "cell_type": "code",
   "execution_count": null,
   "metadata": {},
   "outputs": [],
   "source": []
  }
 ],
 "metadata": {
  "kernelspec": {
   "display_name": "Python 3.7.3 ('base')",
   "language": "python",
   "name": "python3"
  },
  "language_info": {
   "codemirror_mode": {
    "name": "ipython",
    "version": 3
   },
   "file_extension": ".py",
   "mimetype": "text/x-python",
   "name": "python",
   "nbconvert_exporter": "python",
   "pygments_lexer": "ipython3",
   "version": "3.7.3"
  },
  "orig_nbformat": 4,
  "vscode": {
   "interpreter": {
    "hash": "ad2bdc8ecc057115af97d19610ffacc2b4e99fae6737bb82f5d7fb13d2f2c186"
   }
  }
 },
 "nbformat": 4,
 "nbformat_minor": 2
}
