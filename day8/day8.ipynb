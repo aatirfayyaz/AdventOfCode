{
 "cells": [
  {
   "cell_type": "code",
   "execution_count": 20,
   "metadata": {},
   "outputs": [],
   "source": [
    "import numpy as np"
   ]
  },
  {
   "cell_type": "code",
   "execution_count": 44,
   "metadata": {},
   "outputs": [
    {
     "name": "stdout",
     "output_type": "stream",
     "text": [
      "Number of visible trees: 1845\n"
     ]
    }
   ],
   "source": [
    "# PART 1\n",
    "\n",
    "def checkVis(x, y, f):\n",
    "    mxRow = len(f) - 1\n",
    "    mxCol = len(f[0]) - 1\n",
    "    right, left, up, down = True, True, True, True\n",
    "    if (x == 0 or y == 0 or x == mxRow or y == mxCol):\n",
    "        return True\n",
    "\n",
    "    else:\n",
    "        # Check Right\n",
    "        for i in range(mxCol - y):\n",
    "            if int(f[x][y]) <= int(f[x][y + i + 1]):\n",
    "                right = False\n",
    "        # Check Left\n",
    "        for i in range(y):\n",
    "            if int(f[x][y]) <= int(f[x][i]):\n",
    "                left = False\n",
    "        # Check Down\n",
    "        for i in range(mxRow - x):\n",
    "            if int(f[x][y]) <= int(f[x + i + 1][y]):\n",
    "                down = False\n",
    "        # Check Up\n",
    "        for i in range(x):\n",
    "            if int(f[x][y]) <= int(f[i][y]):\n",
    "                up = False\n",
    "        \n",
    "    if (right or left or up or down):\n",
    "        return True\n",
    "    else:\n",
    "        return False\n",
    "\n",
    "\n",
    "\n",
    "f = open(\"data.txt\", \"r\")\n",
    "f = f.read().splitlines()\n",
    "\n",
    "vis = np.zeros((len(f),len(f[0])))\n",
    "# print(vis)\n",
    "\n",
    "for i in range(len(f)):\n",
    "    for j in range(len(f[0])):\n",
    "        if (checkVis(i, j, f)):\n",
    "            vis[i][j] = 1\n",
    "\n",
    "print(\"Number of visible trees: \" + str(int(np.sum(vis))))"
   ]
  },
  {
   "cell_type": "code",
   "execution_count": 112,
   "metadata": {},
   "outputs": [
    {
     "name": "stdout",
     "output_type": "stream",
     "text": [
      "Max number of visible trees: 230112 at x, y = 51, 86\n"
     ]
    }
   ],
   "source": [
    "# PART 1\n",
    "\n",
    "def countVis(x, y, f):\n",
    "    mxRow = len(f) - 1\n",
    "    mxCol = len(f[0]) - 1\n",
    "    right, left, up, down = 0, 0, 0, 0\n",
    "    \n",
    "    if (x == 0 or y == 0 or x == mxRow or y == mxCol):\n",
    "        return 0\n",
    "\n",
    "    else:\n",
    "        # Check Right\n",
    "        for i in range(mxCol - y):\n",
    "            right += 1\n",
    "            if int(f[x][y]) <= int(f[x][y + i + 1]):\n",
    "                # print('breaking at x, y', x, y, 'with right val=', right)\n",
    "                break\n",
    "        # Check Left\n",
    "        for i in reversed(range(y)):\n",
    "            left += 1\n",
    "            if int(f[x][y]) <= int(f[x][i]):\n",
    "                # print('breaking at x, y', x, y, 'with left val=', left)\n",
    "                break\n",
    "        # Check Down\n",
    "        for i in range(mxRow - x):\n",
    "            down += 1\n",
    "            if int(f[x][y]) <= int(f[x + i + 1][y]):\n",
    "                # print('breaking at x, y', x, y, 'with down val=', down)\n",
    "                break\n",
    "        # Check Up\n",
    "        for i in reversed(range(x)):\n",
    "            up += 1\n",
    "            if int(f[x][y]) <= int(f[i][y]):\n",
    "                # print('breaking at i, y', i, y, 'with up val=', up, ' because f[i][y] = ' + f[i][y])\n",
    "                break\n",
    "    \n",
    "    # print('right val=', right, 'left val=', left, 'down val=', down, 'up val=', up)\n",
    "    return up*down*right*left\n",
    "\n",
    "\n",
    "\n",
    "f = open(\"data.txt\", \"r\")\n",
    "f = f.read().splitlines()\n",
    "\n",
    "vis = np.zeros((len(f),len(f[0])))\n",
    "maxTrees = 0\n",
    "x, y = 0, 0\n",
    "\n",
    "for i in range(len(f)):\n",
    "    for j in range(len(f[0])):\n",
    "        count = countVis(i, j, f)\n",
    "        if (maxTrees < count):\n",
    "            maxTrees, x, y = count, i, j\n",
    "\n",
    "print(\"Max number of visible trees: \" + str(maxTrees) + \" at x, y = \" + str(x) + \", \" + str(y))"
   ]
  },
  {
   "cell_type": "code",
   "execution_count": null,
   "metadata": {},
   "outputs": [],
   "source": []
  },
  {
   "cell_type": "code",
   "execution_count": null,
   "metadata": {},
   "outputs": [],
   "source": []
  }
 ],
 "metadata": {
  "language_info": {
   "name": "python"
  },
  "orig_nbformat": 4
 },
 "nbformat": 4,
 "nbformat_minor": 2
}
