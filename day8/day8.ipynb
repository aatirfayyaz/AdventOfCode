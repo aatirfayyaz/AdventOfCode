{
 "cells": [
  {
   "cell_type": "code",
   "execution_count": 20,
   "metadata": {},
   "outputs": [],
   "source": [
    "import numpy as np"
   ]
  },
  {
   "cell_type": "code",
   "execution_count": 43,
   "metadata": {},
   "outputs": [
    {
     "name": "stdout",
     "output_type": "stream",
     "text": [
      "Number of visible trees: 1845.0\n"
     ]
    }
   ],
   "source": [
    "def checkVis(x, y, f):\n",
    "    mxRow = len(f) - 1\n",
    "    mxCol = len(f[0]) - 1\n",
    "    right, left, up, down = True, True, True, True\n",
    "    if (x == 0 or y == 0 or x == mxRow or y == mxCol):\n",
    "        return True\n",
    "\n",
    "    else:\n",
    "        # Check Right\n",
    "        for i in range(mxCol - y):\n",
    "            if int(f[x][y]) <= int(f[x][y + i + 1]):\n",
    "                right = False\n",
    "        # Check Left\n",
    "        for i in range(y):\n",
    "            if int(f[x][y]) <= int(f[x][i]):\n",
    "                left = False\n",
    "        # Check Down\n",
    "        for i in range(mxRow - x):\n",
    "            if int(f[x][y]) <= int(f[x + i + 1][y]):\n",
    "                down = False\n",
    "        # Check Up\n",
    "        for i in range(x):\n",
    "            if int(f[x][y]) <= int(f[i][y]):\n",
    "                up = False\n",
    "        \n",
    "    if (right or left or up or down):\n",
    "        return True\n",
    "    else:\n",
    "        return False\n",
    "\n",
    "\n",
    "\n",
    "f = open(\"data.txt\", \"r\")\n",
    "f = f.read().splitlines()\n",
    "\n",
    "vis = np.zeros((len(f),len(f[0])))\n",
    "# print(vis)\n",
    "\n",
    "for i in range(len(f)):\n",
    "    for j in range(len(f[0])):\n",
    "        if (checkVis(i, j, f)):\n",
    "            vis[i][j] = 1\n",
    "\n",
    "print(\"Number of visible trees: \" + str(np.sum(vis)))"
   ]
  },
  {
   "cell_type": "code",
   "execution_count": null,
   "metadata": {},
   "outputs": [],
   "source": []
  }
 ],
 "metadata": {
  "language_info": {
   "name": "python"
  },
  "orig_nbformat": 4
 },
 "nbformat": 4,
 "nbformat_minor": 2
}
