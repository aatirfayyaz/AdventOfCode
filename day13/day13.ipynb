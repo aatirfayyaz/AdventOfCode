{
 "cells": [
  {
   "cell_type": "code",
   "execution_count": 6,
   "metadata": {},
   "outputs": [],
   "source": [
    "import collections"
   ]
  },
  {
   "cell_type": "code",
   "execution_count": 3,
   "metadata": {},
   "outputs": [
    {
     "name": "stdout",
     "output_type": "stream",
     "text": [
      "Part 1 Answer: 13\n"
     ]
    }
   ],
   "source": [
    "# PART 1\n",
    "\n",
    "def recCompare(a, b):\n",
    "    if isinstance(a, int) and isinstance(b, int):\n",
    "        return (a < b) - (a > b)\n",
    "    \n",
    "    a = [a] if isinstance(a, int) else a\n",
    "    b = [b] if isinstance(b, int) else b\n",
    "    lenA, lenB = len(a), len(b)\n",
    "    minLength = min(lenA, lenB)\n",
    "\n",
    "    for i in range(minLength):\n",
    "        res = recCompare(a[i], b[i])\n",
    "        if res != 0:\n",
    "            return res\n",
    "\n",
    "    return recCompare(lenA, lenB)\n",
    "\n",
    "\n",
    "\n",
    "with open(\"data.txt\", \"r\") as f:\n",
    "    f = f.read().splitlines()\n",
    "\n",
    "total = 0\n",
    "\n",
    "for i in range(0, len(f)+1, 3):\n",
    "    x = eval(f[i])\n",
    "    y = eval(f[i+1])\n",
    "    if recCompare(x, y) == 1:\n",
    "        total = total + int(i/3) + 1\n",
    "\n",
    "print(\"Part 1 Answer:\", total)"
   ]
  },
  {
   "cell_type": "code",
   "execution_count": 12,
   "metadata": {},
   "outputs": [
    {
     "name": "stdout",
     "output_type": "stream",
     "text": [
      "[[[1, 1, 3, 1, 1], [1, 1, 5, 1, 1]], [[[1], [2, 3, 4]], [[1], 4]], [[9], [[8, 7, 6]]], [[[4, 4], 4, 4], [[4, 4], 4, 4, 4]], [[7, 7, 7, 7], [7, 7, 7]], [[], [3]], [[[[]]], [[]]], [[1, [2, [3, [4, [5, 6, 7]]]], 8, 9], [1, [2, [3, [4, [5, 6, 0]]]], 8, 9]]]\n"
     ]
    }
   ],
   "source": [
    "# PART 2\n",
    "\n",
    "data = [[eval(f[i]), eval(f[i+1])] for i in range(0, len(f)+1, 3)]\n",
    "# data = sorted(sum(data, [[2], [6]]), key=recCompare, reverse=True)\n",
    "\n",
    "print(data)"
   ]
  },
  {
   "cell_type": "code",
   "execution_count": null,
   "metadata": {},
   "outputs": [],
   "source": []
  },
  {
   "cell_type": "code",
   "execution_count": null,
   "metadata": {},
   "outputs": [],
   "source": []
  },
  {
   "cell_type": "code",
   "execution_count": null,
   "metadata": {},
   "outputs": [],
   "source": []
  }
 ],
 "metadata": {
  "kernelspec": {
   "display_name": "Python 3.7.3 ('base')",
   "language": "python",
   "name": "python3"
  },
  "language_info": {
   "codemirror_mode": {
    "name": "ipython",
    "version": 3
   },
   "file_extension": ".py",
   "mimetype": "text/x-python",
   "name": "python",
   "nbconvert_exporter": "python",
   "pygments_lexer": "ipython3",
   "version": "3.7.3"
  },
  "orig_nbformat": 4,
  "vscode": {
   "interpreter": {
    "hash": "ad2bdc8ecc057115af97d19610ffacc2b4e99fae6737bb82f5d7fb13d2f2c186"
   }
  }
 },
 "nbformat": 4,
 "nbformat_minor": 2
}
